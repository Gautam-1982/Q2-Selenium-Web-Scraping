{
 "cells": [
  {
   "cell_type": "code",
   "execution_count": 1,
   "metadata": {},
   "outputs": [],
   "source": [
    "import selenium\n",
    "import pandas as pd\n",
    "from selenium import webdriver"
   ]
  },
  {
   "cell_type": "code",
   "execution_count": 2,
   "metadata": {},
   "outputs": [],
   "source": [
    "driver = webdriver.Chrome(executable_path=\"D:\\\\chromedriver_win32\\\\chromedriver.exe\")"
   ]
  },
  {
   "cell_type": "code",
   "execution_count": 3,
   "metadata": {},
   "outputs": [],
   "source": [
    "driver.get('https://www.naukri.com/')"
   ]
  },
  {
   "cell_type": "code",
   "execution_count": 4,
   "metadata": {},
   "outputs": [],
   "source": [
    "search_job = driver.find_element_by_id('qsb-keyword-sugg')\n",
    "search_job.send_keys(\"Data Scientist\")\n",
    "search_loc = driver .find_element_by_xpath(\"//input[@id='qsb-location-sugg']\")\n",
    "search_loc.send_keys(\"Bangalore\")\n",
    "                                   "
   ]
  },
  {
   "cell_type": "code",
   "execution_count": 5,
   "metadata": {},
   "outputs": [],
   "source": [
    "search_btn=driver.find_element_by_xpath(\"//div[@class='search-btn']/button\")\n",
    "search_btn.click()"
   ]
  },
  {
   "cell_type": "code",
   "execution_count": 6,
   "metadata": {},
   "outputs": [],
   "source": [
    "url=\"https://www.naukri.com/data-scientist-jobs-in-bangalore?k=data%20scientist&l=bangalore\""
   ]
  },
  {
   "cell_type": "code",
   "execution_count": 7,
   "metadata": {},
   "outputs": [],
   "source": [
    "driver.get(url)"
   ]
  },
  {
   "cell_type": "code",
   "execution_count": 8,
   "metadata": {},
   "outputs": [],
   "source": [
    "job_titles = []\n",
    "company_names=[]\n",
    "location_lists=[]\n",
    "fulljob_description=[]\n"
   ]
  },
  {
   "cell_type": "code",
   "execution_count": 9,
   "metadata": {},
   "outputs": [
    {
     "data": {
      "text/plain": [
       "[<selenium.webdriver.remote.webelement.WebElement (session=\"12beeab09ac3dddc046bab018930589d\", element=\"3ddaef9f-36a6-4d9b-a071-a314fca66d9c\")>,\n",
       " <selenium.webdriver.remote.webelement.WebElement (session=\"12beeab09ac3dddc046bab018930589d\", element=\"08db1a72-14bf-4cc0-a9f9-237cd5950ded\")>,\n",
       " <selenium.webdriver.remote.webelement.WebElement (session=\"12beeab09ac3dddc046bab018930589d\", element=\"22072fab-d69d-4b0d-808d-1c646f38dec2\")>,\n",
       " <selenium.webdriver.remote.webelement.WebElement (session=\"12beeab09ac3dddc046bab018930589d\", element=\"921dcd9b-e349-4447-b0e5-8d6fb7c581e0\")>,\n",
       " <selenium.webdriver.remote.webelement.WebElement (session=\"12beeab09ac3dddc046bab018930589d\", element=\"7c553659-06c3-4b4e-b3cf-12e9ee86f5c3\")>,\n",
       " <selenium.webdriver.remote.webelement.WebElement (session=\"12beeab09ac3dddc046bab018930589d\", element=\"a0750b5c-9354-4057-a709-a786419b0b07\")>,\n",
       " <selenium.webdriver.remote.webelement.WebElement (session=\"12beeab09ac3dddc046bab018930589d\", element=\"659be797-a17a-473e-8194-58f3d58fa786\")>,\n",
       " <selenium.webdriver.remote.webelement.WebElement (session=\"12beeab09ac3dddc046bab018930589d\", element=\"bcce4fd0-ac22-44c1-90e7-90221091e65a\")>,\n",
       " <selenium.webdriver.remote.webelement.WebElement (session=\"12beeab09ac3dddc046bab018930589d\", element=\"871fd6f9-9e57-43cd-81b7-a6e96e4996b0\")>,\n",
       " <selenium.webdriver.remote.webelement.WebElement (session=\"12beeab09ac3dddc046bab018930589d\", element=\"0612bf62-0f85-40f9-8ac2-182e99d3b382\")>]"
      ]
     },
     "execution_count": 9,
     "metadata": {},
     "output_type": "execute_result"
    }
   ],
   "source": [
    "titles_tags=driver.find_elements_by_xpath(\"//a[@class='title fw500 ellipsis']\")\n",
    "titles_tags[0:10]"
   ]
  },
  {
   "cell_type": "code",
   "execution_count": 10,
   "metadata": {},
   "outputs": [
    {
     "data": {
      "text/plain": [
       "['Data Scientist',\n",
       " 'Data Scientist - C3 Developer',\n",
       " 'Principal Data Scientist - Product Development Firm',\n",
       " 'Senior Data Scientist',\n",
       " 'Data Scientist- NIIT ltd.',\n",
       " 'Data Scientist - AI ML Team',\n",
       " 'Data Scientist - Algorithm/ Machine Learning',\n",
       " 'Senior Data Scientist',\n",
       " 'Data Scientist - KPO - IIT/NIT/BITS',\n",
       " 'Staff Data Scientist (MINT)']"
      ]
     },
     "execution_count": 10,
     "metadata": {},
     "output_type": "execute_result"
    }
   ],
   "source": [
    "for i in titles_tags:\n",
    "    title=i.text\n",
    "    job_titles.append(title)\n",
    "job_titles[0:10]"
   ]
  },
  {
   "cell_type": "code",
   "execution_count": 11,
   "metadata": {},
   "outputs": [
    {
     "data": {
      "text/plain": [
       "[<selenium.webdriver.remote.webelement.WebElement (session=\"12beeab09ac3dddc046bab018930589d\", element=\"d053317a-91be-41e8-89b5-37d7906fccbd\")>,\n",
       " <selenium.webdriver.remote.webelement.WebElement (session=\"12beeab09ac3dddc046bab018930589d\", element=\"c210a0c4-681a-48b9-9299-9d4c5e1b769b\")>,\n",
       " <selenium.webdriver.remote.webelement.WebElement (session=\"12beeab09ac3dddc046bab018930589d\", element=\"33062c0d-aabc-47cb-96fa-e527fbaa98c6\")>,\n",
       " <selenium.webdriver.remote.webelement.WebElement (session=\"12beeab09ac3dddc046bab018930589d\", element=\"136baf4f-01ff-4515-ac2a-8f1f5cf966a2\")>,\n",
       " <selenium.webdriver.remote.webelement.WebElement (session=\"12beeab09ac3dddc046bab018930589d\", element=\"cad8a3e1-af81-4f93-89bf-18f8c544b2cb\")>,\n",
       " <selenium.webdriver.remote.webelement.WebElement (session=\"12beeab09ac3dddc046bab018930589d\", element=\"d02655c9-c79c-42c9-84cc-9c4494b56760\")>,\n",
       " <selenium.webdriver.remote.webelement.WebElement (session=\"12beeab09ac3dddc046bab018930589d\", element=\"c9406a47-fabd-4745-a89a-682407f24307\")>,\n",
       " <selenium.webdriver.remote.webelement.WebElement (session=\"12beeab09ac3dddc046bab018930589d\", element=\"4dacb1da-eabc-4354-a244-84c8d2268d26\")>,\n",
       " <selenium.webdriver.remote.webelement.WebElement (session=\"12beeab09ac3dddc046bab018930589d\", element=\"9ac7f097-6026-4276-9837-7b18e623873d\")>,\n",
       " <selenium.webdriver.remote.webelement.WebElement (session=\"12beeab09ac3dddc046bab018930589d\", element=\"36c77faf-6309-43f7-adcb-9cd1e200ecf7\")>]"
      ]
     },
     "execution_count": 11,
     "metadata": {},
     "output_type": "execute_result"
    }
   ],
   "source": [
    "companies_tags=driver.find_elements_by_xpath(\"//a[@class='subTitle ellipsis fleft']\")\n",
    "companies_tags[0:10]"
   ]
  },
  {
   "cell_type": "code",
   "execution_count": 12,
   "metadata": {},
   "outputs": [
    {
     "data": {
      "text/plain": [
       "['Fractal Analytics',\n",
       " 'Shell India Markets Private Limited',\n",
       " 'hCapital Executive Search',\n",
       " 'Avom Consultants',\n",
       " 'NIIT Ltd.',\n",
       " 'CustomerXPs Software Pvt Ltd',\n",
       " 'Ally -eXecutive HR Consulting Partner',\n",
       " 'ExecBoardinAsia',\n",
       " 'TalentCo Search Pvt Ltd',\n",
       " 'Walmart Labs']"
      ]
     },
     "execution_count": 12,
     "metadata": {},
     "output_type": "execute_result"
    }
   ],
   "source": [
    "for i in companies_tags:\n",
    "    company_name=i.text\n",
    "    company_names.append(company_name)\n",
    "company_names[0:10]"
   ]
  },
  {
   "cell_type": "code",
   "execution_count": 13,
   "metadata": {},
   "outputs": [
    {
     "data": {
      "text/plain": [
       "[<selenium.webdriver.remote.webelement.WebElement (session=\"12beeab09ac3dddc046bab018930589d\", element=\"5a0702af-fb5a-40b4-8d76-d3ed3fb8f960\")>,\n",
       " <selenium.webdriver.remote.webelement.WebElement (session=\"12beeab09ac3dddc046bab018930589d\", element=\"56206e2f-47c1-47d8-a0b7-3659a94a1e10\")>,\n",
       " <selenium.webdriver.remote.webelement.WebElement (session=\"12beeab09ac3dddc046bab018930589d\", element=\"d7cb01ae-b56a-4158-be29-0ef71a56a777\")>,\n",
       " <selenium.webdriver.remote.webelement.WebElement (session=\"12beeab09ac3dddc046bab018930589d\", element=\"a7880a41-8b48-406c-86cd-5a407ca9b631\")>,\n",
       " <selenium.webdriver.remote.webelement.WebElement (session=\"12beeab09ac3dddc046bab018930589d\", element=\"170468e6-38ac-48b3-8df1-4dc925b408e3\")>,\n",
       " <selenium.webdriver.remote.webelement.WebElement (session=\"12beeab09ac3dddc046bab018930589d\", element=\"8ae9a006-06c7-4b25-9c94-94f965e03fb3\")>,\n",
       " <selenium.webdriver.remote.webelement.WebElement (session=\"12beeab09ac3dddc046bab018930589d\", element=\"6aa4bb0f-6a24-4eb2-9248-4fd683981bee\")>,\n",
       " <selenium.webdriver.remote.webelement.WebElement (session=\"12beeab09ac3dddc046bab018930589d\", element=\"e0e4d2f3-4f59-4f81-b9a7-e8fa2bb7e7c2\")>,\n",
       " <selenium.webdriver.remote.webelement.WebElement (session=\"12beeab09ac3dddc046bab018930589d\", element=\"01ff94c7-a71b-47ff-b5be-b573aacec823\")>,\n",
       " <selenium.webdriver.remote.webelement.WebElement (session=\"12beeab09ac3dddc046bab018930589d\", element=\"62127fc0-ca28-4507-ae43-0f0736eccec1\")>]"
      ]
     },
     "execution_count": 13,
     "metadata": {},
     "output_type": "execute_result"
    }
   ],
   "source": [
    "location_tags=driver.find_elements_by_xpath(\"//li[@class='fleft grey-text br2 placeHolderLi location']/span[1]\")\n",
    "location_tags[0:10]"
   ]
  },
  {
   "cell_type": "code",
   "execution_count": 14,
   "metadata": {},
   "outputs": [
    {
     "data": {
      "text/plain": [
       "['Bangalore/Bengaluru',\n",
       " 'Chennai, Bangalore/Bengaluru',\n",
       " 'Bangalore',\n",
       " 'Pune, Bangalore/Bengaluru, Delhi / NCR',\n",
       " 'Bangalore/Bengaluru',\n",
       " 'Bangalore/Bengaluru',\n",
       " 'Bangalore/Bengaluru',\n",
       " 'Bangalore/Bengaluru',\n",
       " 'Mumbai, Bangalore/Bengaluru, Delhi NCR',\n",
       " 'Bangalore/Bengaluru']"
      ]
     },
     "execution_count": 14,
     "metadata": {},
     "output_type": "execute_result"
    }
   ],
   "source": [
    "for i in location_tags:\n",
    "    location_list=i.text\n",
    "    location_lists.append(location_list)\n",
    "location_lists[0:10]"
   ]
  },
  {
   "cell_type": "code",
   "execution_count": 17,
   "metadata": {},
   "outputs": [
    {
     "data": {
      "text/plain": [
       "[<selenium.webdriver.remote.webelement.WebElement (session=\"12beeab09ac3dddc046bab018930589d\", element=\"95e74a13-77d8-4283-ad25-4349c1e987c8\")>,\n",
       " <selenium.webdriver.remote.webelement.WebElement (session=\"12beeab09ac3dddc046bab018930589d\", element=\"2179d76b-dc1d-4b98-a378-9199c0c3efd6\")>,\n",
       " <selenium.webdriver.remote.webelement.WebElement (session=\"12beeab09ac3dddc046bab018930589d\", element=\"edf99557-3e25-4746-be6d-2c99818d6e98\")>,\n",
       " <selenium.webdriver.remote.webelement.WebElement (session=\"12beeab09ac3dddc046bab018930589d\", element=\"2e9278b4-ebd3-4781-9950-d50ad05bedc0\")>,\n",
       " <selenium.webdriver.remote.webelement.WebElement (session=\"12beeab09ac3dddc046bab018930589d\", element=\"300ce99f-c0ba-42bf-9b7d-9aa6d947ad73\")>,\n",
       " <selenium.webdriver.remote.webelement.WebElement (session=\"12beeab09ac3dddc046bab018930589d\", element=\"43f12d57-084c-4bfd-b48e-dd12af3f46a3\")>,\n",
       " <selenium.webdriver.remote.webelement.WebElement (session=\"12beeab09ac3dddc046bab018930589d\", element=\"30c56bb1-30f4-4688-b544-b2968e5d3663\")>,\n",
       " <selenium.webdriver.remote.webelement.WebElement (session=\"12beeab09ac3dddc046bab018930589d\", element=\"9b4bee90-ac6d-4d68-8742-6d1cb927e922\")>,\n",
       " <selenium.webdriver.remote.webelement.WebElement (session=\"12beeab09ac3dddc046bab018930589d\", element=\"6eee1af8-6fca-4257-bb4f-2d510dbaff36\")>,\n",
       " <selenium.webdriver.remote.webelement.WebElement (session=\"12beeab09ac3dddc046bab018930589d\", element=\"feceb932-77c0-4b94-bfdc-ecc21b135086\")>]"
      ]
     },
     "execution_count": 17,
     "metadata": {},
     "output_type": "execute_result"
    }
   ],
   "source": [
    "description_tags=driver.find_elements_by_xpath(\"//div[@class='job-description fs12 grey-text']\")\n",
    "description_tags[0:10]"
   ]
  },
  {
   "cell_type": "code",
   "execution_count": 20,
   "metadata": {},
   "outputs": [
    {
     "data": {
      "text/plain": [
       "['To succeed in this role, you should possess outstanding skills in statistical analysis,...',\n",
       " 'The RolePotential candidate will be working on cutting edge production platform as an i...',\n",
       " 'Principal Data Scientist - Product Development FirmAbout the opportunity :The client is...',\n",
       " 'Data Scientist with relevant experience in Python/R/Spark/Tableau can apply.',\n",
       " 'NIIT is looking for Data Scientist for Bangalore location.Job Location - HSR layout , B...',\n",
       " 'Must have built 2-3 end to end ML projects in the past;Your Skills: Must have 3 8 years...',\n",
       " 'Bachelors degree in a quantitative discipline (e.g., Statistics, Economics, Mathematics...',\n",
       " 'To Contribute to model generation and model monitoring frame workl To contribute to Com...',\n",
       " 'Experience Required: - BTech / MTech in Computer Science / Mathematics / Signal Process...',\n",
       " 'Your Opportunity To fulfill the charter of MINT, there is need for top notch talent in ...']"
      ]
     },
     "execution_count": 20,
     "metadata": {},
     "output_type": "execute_result"
    }
   ],
   "source": [
    "for i in description_tags:\n",
    "    job_description=i.text\n",
    "    fulljob_description.append(job_description)\n",
    "fulljob_description[0:10]"
   ]
  },
  {
   "cell_type": "code",
   "execution_count": 23,
   "metadata": {},
   "outputs": [
    {
     "name": "stdout",
     "output_type": "stream",
     "text": [
      "20 20 20 20\n"
     ]
    }
   ],
   "source": [
    "print(len(job_titles), len(company_names), len(location_lists), len(fulljob_description))"
   ]
  },
  {
   "cell_type": "code",
   "execution_count": 25,
   "metadata": {},
   "outputs": [],
   "source": [
    "jobs=pd.DataFrame({})\n",
    "jobs['job_title']=job_titles[:10]\n",
    "jobs['company_names']=company_names[:10]\n",
    "jobs['location_list']=location_lists[:10]\n",
    "jobs['job_description']=fulljob_description[:10]"
   ]
  },
  {
   "cell_type": "code",
   "execution_count": 26,
   "metadata": {},
   "outputs": [
    {
     "data": {
      "text/html": [
       "<div>\n",
       "<style scoped>\n",
       "    .dataframe tbody tr th:only-of-type {\n",
       "        vertical-align: middle;\n",
       "    }\n",
       "\n",
       "    .dataframe tbody tr th {\n",
       "        vertical-align: top;\n",
       "    }\n",
       "\n",
       "    .dataframe thead th {\n",
       "        text-align: right;\n",
       "    }\n",
       "</style>\n",
       "<table border=\"1\" class=\"dataframe\">\n",
       "  <thead>\n",
       "    <tr style=\"text-align: right;\">\n",
       "      <th></th>\n",
       "      <th>job_title</th>\n",
       "      <th>company_names</th>\n",
       "      <th>location_list</th>\n",
       "      <th>job_description</th>\n",
       "    </tr>\n",
       "  </thead>\n",
       "  <tbody>\n",
       "    <tr>\n",
       "      <th>0</th>\n",
       "      <td>Data Scientist</td>\n",
       "      <td>Fractal Analytics</td>\n",
       "      <td>Bangalore/Bengaluru</td>\n",
       "      <td>To succeed in this role, you should possess ou...</td>\n",
       "    </tr>\n",
       "    <tr>\n",
       "      <th>1</th>\n",
       "      <td>Data Scientist - C3 Developer</td>\n",
       "      <td>Shell India Markets Private Limited</td>\n",
       "      <td>Chennai, Bangalore/Bengaluru</td>\n",
       "      <td>The RolePotential candidate will be working on...</td>\n",
       "    </tr>\n",
       "    <tr>\n",
       "      <th>2</th>\n",
       "      <td>Principal Data Scientist - Product Development...</td>\n",
       "      <td>hCapital Executive Search</td>\n",
       "      <td>Bangalore</td>\n",
       "      <td>Principal Data Scientist - Product Development...</td>\n",
       "    </tr>\n",
       "    <tr>\n",
       "      <th>3</th>\n",
       "      <td>Senior Data Scientist</td>\n",
       "      <td>Avom Consultants</td>\n",
       "      <td>Pune, Bangalore/Bengaluru, Delhi / NCR</td>\n",
       "      <td>Data Scientist with relevant experience in Pyt...</td>\n",
       "    </tr>\n",
       "    <tr>\n",
       "      <th>4</th>\n",
       "      <td>Data Scientist- NIIT ltd.</td>\n",
       "      <td>NIIT Ltd.</td>\n",
       "      <td>Bangalore/Bengaluru</td>\n",
       "      <td>NIIT is looking for Data Scientist for Bangalo...</td>\n",
       "    </tr>\n",
       "    <tr>\n",
       "      <th>5</th>\n",
       "      <td>Data Scientist - AI ML Team</td>\n",
       "      <td>CustomerXPs Software Pvt Ltd</td>\n",
       "      <td>Bangalore/Bengaluru</td>\n",
       "      <td>Must have built 2-3 end to end ML projects in ...</td>\n",
       "    </tr>\n",
       "    <tr>\n",
       "      <th>6</th>\n",
       "      <td>Data Scientist - Algorithm/ Machine Learning</td>\n",
       "      <td>Ally -eXecutive HR Consulting Partner</td>\n",
       "      <td>Bangalore/Bengaluru</td>\n",
       "      <td>Bachelors degree in a quantitative discipline ...</td>\n",
       "    </tr>\n",
       "    <tr>\n",
       "      <th>7</th>\n",
       "      <td>Senior Data Scientist</td>\n",
       "      <td>ExecBoardinAsia</td>\n",
       "      <td>Bangalore/Bengaluru</td>\n",
       "      <td>To Contribute to model generation and model mo...</td>\n",
       "    </tr>\n",
       "    <tr>\n",
       "      <th>8</th>\n",
       "      <td>Data Scientist - KPO - IIT/NIT/BITS</td>\n",
       "      <td>TalentCo Search Pvt Ltd</td>\n",
       "      <td>Mumbai, Bangalore/Bengaluru, Delhi NCR</td>\n",
       "      <td>Experience Required: - BTech / MTech in Comput...</td>\n",
       "    </tr>\n",
       "    <tr>\n",
       "      <th>9</th>\n",
       "      <td>Staff Data Scientist (MINT)</td>\n",
       "      <td>Walmart Labs</td>\n",
       "      <td>Bangalore/Bengaluru</td>\n",
       "      <td>Your Opportunity To fulfill the charter of MIN...</td>\n",
       "    </tr>\n",
       "  </tbody>\n",
       "</table>\n",
       "</div>"
      ],
      "text/plain": [
       "                                           job_title  \\\n",
       "0                                     Data Scientist   \n",
       "1                      Data Scientist - C3 Developer   \n",
       "2  Principal Data Scientist - Product Development...   \n",
       "3                              Senior Data Scientist   \n",
       "4                          Data Scientist- NIIT ltd.   \n",
       "5                        Data Scientist - AI ML Team   \n",
       "6       Data Scientist - Algorithm/ Machine Learning   \n",
       "7                              Senior Data Scientist   \n",
       "8                Data Scientist - KPO - IIT/NIT/BITS   \n",
       "9                        Staff Data Scientist (MINT)   \n",
       "\n",
       "                           company_names  \\\n",
       "0                      Fractal Analytics   \n",
       "1    Shell India Markets Private Limited   \n",
       "2              hCapital Executive Search   \n",
       "3                       Avom Consultants   \n",
       "4                              NIIT Ltd.   \n",
       "5           CustomerXPs Software Pvt Ltd   \n",
       "6  Ally -eXecutive HR Consulting Partner   \n",
       "7                        ExecBoardinAsia   \n",
       "8                TalentCo Search Pvt Ltd   \n",
       "9                           Walmart Labs   \n",
       "\n",
       "                            location_list  \\\n",
       "0                     Bangalore/Bengaluru   \n",
       "1            Chennai, Bangalore/Bengaluru   \n",
       "2                               Bangalore   \n",
       "3  Pune, Bangalore/Bengaluru, Delhi / NCR   \n",
       "4                     Bangalore/Bengaluru   \n",
       "5                     Bangalore/Bengaluru   \n",
       "6                     Bangalore/Bengaluru   \n",
       "7                     Bangalore/Bengaluru   \n",
       "8  Mumbai, Bangalore/Bengaluru, Delhi NCR   \n",
       "9                     Bangalore/Bengaluru   \n",
       "\n",
       "                                     job_description  \n",
       "0  To succeed in this role, you should possess ou...  \n",
       "1  The RolePotential candidate will be working on...  \n",
       "2  Principal Data Scientist - Product Development...  \n",
       "3  Data Scientist with relevant experience in Pyt...  \n",
       "4  NIIT is looking for Data Scientist for Bangalo...  \n",
       "5  Must have built 2-3 end to end ML projects in ...  \n",
       "6  Bachelors degree in a quantitative discipline ...  \n",
       "7  To Contribute to model generation and model mo...  \n",
       "8  Experience Required: - BTech / MTech in Comput...  \n",
       "9  Your Opportunity To fulfill the charter of MIN...  "
      ]
     },
     "execution_count": 26,
     "metadata": {},
     "output_type": "execute_result"
    }
   ],
   "source": [
    "jobs"
   ]
  },
  {
   "cell_type": "code",
   "execution_count": 27,
   "metadata": {},
   "outputs": [],
   "source": [
    "import pickle\n",
    "filename= 'Selenium AssignmentQ2.pkl'\n",
    "pickle.dump(jobs,open(filename,'wb'))"
   ]
  },
  {
   "cell_type": "code",
   "execution_count": null,
   "metadata": {},
   "outputs": [],
   "source": []
  },
  {
   "cell_type": "code",
   "execution_count": null,
   "metadata": {},
   "outputs": [],
   "source": []
  },
  {
   "cell_type": "code",
   "execution_count": null,
   "metadata": {},
   "outputs": [],
   "source": []
  },
  {
   "cell_type": "code",
   "execution_count": null,
   "metadata": {},
   "outputs": [],
   "source": []
  },
  {
   "cell_type": "code",
   "execution_count": null,
   "metadata": {},
   "outputs": [],
   "source": []
  },
  {
   "cell_type": "code",
   "execution_count": null,
   "metadata": {},
   "outputs": [],
   "source": []
  },
  {
   "cell_type": "code",
   "execution_count": null,
   "metadata": {},
   "outputs": [],
   "source": []
  },
  {
   "cell_type": "code",
   "execution_count": null,
   "metadata": {},
   "outputs": [],
   "source": []
  },
  {
   "cell_type": "code",
   "execution_count": null,
   "metadata": {},
   "outputs": [],
   "source": []
  },
  {
   "cell_type": "code",
   "execution_count": null,
   "metadata": {},
   "outputs": [],
   "source": []
  },
  {
   "cell_type": "code",
   "execution_count": null,
   "metadata": {},
   "outputs": [],
   "source": []
  },
  {
   "cell_type": "code",
   "execution_count": null,
   "metadata": {},
   "outputs": [],
   "source": [
    "    "
   ]
  },
  {
   "cell_type": "code",
   "execution_count": null,
   "metadata": {},
   "outputs": [],
   "source": []
  },
  {
   "cell_type": "code",
   "execution_count": null,
   "metadata": {},
   "outputs": [],
   "source": []
  },
  {
   "cell_type": "code",
   "execution_count": null,
   "metadata": {},
   "outputs": [],
   "source": []
  },
  {
   "cell_type": "code",
   "execution_count": null,
   "metadata": {},
   "outputs": [],
   "source": []
  },
  {
   "cell_type": "code",
   "execution_count": null,
   "metadata": {},
   "outputs": [],
   "source": []
  },
  {
   "cell_type": "code",
   "execution_count": null,
   "metadata": {},
   "outputs": [],
   "source": []
  },
  {
   "cell_type": "code",
   "execution_count": null,
   "metadata": {},
   "outputs": [],
   "source": []
  },
  {
   "cell_type": "code",
   "execution_count": null,
   "metadata": {},
   "outputs": [],
   "source": []
  },
  {
   "cell_type": "code",
   "execution_count": null,
   "metadata": {},
   "outputs": [],
   "source": []
  },
  {
   "cell_type": "code",
   "execution_count": null,
   "metadata": {},
   "outputs": [],
   "source": []
  },
  {
   "cell_type": "code",
   "execution_count": null,
   "metadata": {},
   "outputs": [],
   "source": []
  },
  {
   "cell_type": "code",
   "execution_count": null,
   "metadata": {},
   "outputs": [],
   "source": []
  },
  {
   "cell_type": "code",
   "execution_count": null,
   "metadata": {},
   "outputs": [],
   "source": []
  },
  {
   "cell_type": "code",
   "execution_count": null,
   "metadata": {},
   "outputs": [],
   "source": []
  },
  {
   "cell_type": "code",
   "execution_count": null,
   "metadata": {},
   "outputs": [],
   "source": []
  },
  {
   "cell_type": "code",
   "execution_count": null,
   "metadata": {},
   "outputs": [],
   "source": []
  }
 ],
 "metadata": {
  "kernelspec": {
   "display_name": "Python 3",
   "language": "python",
   "name": "python3"
  },
  "language_info": {
   "codemirror_mode": {
    "name": "ipython",
    "version": 3
   },
   "file_extension": ".py",
   "mimetype": "text/x-python",
   "name": "python",
   "nbconvert_exporter": "python",
   "pygments_lexer": "ipython3",
   "version": "3.8.3"
  }
 },
 "nbformat": 4,
 "nbformat_minor": 4
}
